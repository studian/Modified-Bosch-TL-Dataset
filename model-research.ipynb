{
 "cells": [
  {
   "cell_type": "code",
   "execution_count": 1,
   "metadata": {
    "collapsed": true
   },
   "outputs": [],
   "source": [
    "%matplotlib inline\n",
    "from matplotlib import pyplot as plt"
   ]
  },
  {
   "cell_type": "code",
   "execution_count": 2,
   "metadata": {},
   "outputs": [
    {
     "name": "stdout",
     "output_type": "stream",
     "text": [
      "3.1.0\n"
     ]
    }
   ],
   "source": [
    "import glob\n",
    "import sys\n",
    "import os\n",
    "import cv2\n",
    "import numpy as np\n",
    "print(cv2.__version__)"
   ]
  },
  {
   "cell_type": "markdown",
   "metadata": {},
   "source": [
    "---\n",
    "\n",
    "## Load Traffic Lights data\n",
    "\n"
   ]
  },
  {
   "cell_type": "code",
   "execution_count": 3,
   "metadata": {
    "collapsed": true
   },
   "outputs": [],
   "source": [
    "from data_utils import load_tl_extracts"
   ]
  },
  {
   "cell_type": "code",
   "execution_count": 4,
   "metadata": {
    "collapsed": true
   },
   "outputs": [],
   "source": [
    "desired_dim = (32,32)"
   ]
  },
  {
   "cell_type": "code",
   "execution_count": 5,
   "metadata": {
    "collapsed": true
   },
   "outputs": [],
   "source": [
    "data_dirs = ['data/tl-extract-train', 'data/tl-extract-test', 'data/tl-extract-additional']"
   ]
  },
  {
   "cell_type": "code",
   "execution_count": 6,
   "metadata": {
    "collapsed": true
   },
   "outputs": [],
   "source": [
    "# OpenCV uses H, W, C. and C is ordered BGR\n",
    "x, y = load_tl_extracts(data_dirs, desired_dim)"
   ]
  },
  {
   "cell_type": "code",
   "execution_count": 7,
   "metadata": {},
   "outputs": [
    {
     "data": {
      "text/plain": [
       "(24504, 32, 32, 3)"
      ]
     },
     "execution_count": 7,
     "metadata": {},
     "output_type": "execute_result"
    }
   ],
   "source": [
    "x.shape"
   ]
  },
  {
   "cell_type": "code",
   "execution_count": 8,
   "metadata": {},
   "outputs": [
    {
     "data": {
      "text/plain": [
       "(24504,)"
      ]
     },
     "execution_count": 8,
     "metadata": {},
     "output_type": "execute_result"
    }
   ],
   "source": [
    "y.shape"
   ]
  },
  {
   "cell_type": "code",
   "execution_count": 9,
   "metadata": {
    "collapsed": true
   },
   "outputs": [],
   "source": [
    "y_set = set(y)\n",
    "y_dict = {y: i for i,y in enumerate(y_set)}\n",
    "y_n = [y_dict[el] for el in y]\n",
    "n_classes = len(y_set)"
   ]
  },
  {
   "cell_type": "markdown",
   "metadata": {},
   "source": [
    "---\n",
    "\n",
    "## Filter only classes relevant for us\n",
    "\n"
   ]
  },
  {
   "cell_type": "code",
   "execution_count": 10,
   "metadata": {},
   "outputs": [
    {
     "data": {
      "text/plain": [
       "{'green': 8,\n",
       " 'greenleft': 12,\n",
       " 'greenright': 9,\n",
       " 'greenstraight': 7,\n",
       " 'greenstraightleft': 0,\n",
       " 'greenstraightright': 5,\n",
       " 'off': 1,\n",
       " 'red': 4,\n",
       " 'redleft': 11,\n",
       " 'redright': 6,\n",
       " 'redstraight': 10,\n",
       " 'redstraightleft': 3,\n",
       " 'yellow': 2}"
      ]
     },
     "execution_count": 10,
     "metadata": {},
     "output_type": "execute_result"
    },
    {
     "data": {
      "image/png": "[encoded data removed]",
      "text/plain": [
       "<matplotlib.figure.Figure at 0x7fe29efe5630>"
      ]
     },
     "metadata": {},
     "output_type": "display_data"
    }
   ],
   "source": [
    "#distribution of examples per class\n",
    "plt.hist(y_n, bins=n_classes);\n",
    "plt.xlabel('Class');\n",
    "plt.ylabel('Number of samples');\n",
    "y_dict"
   ]
  },
  {
   "cell_type": "code",
   "execution_count": 11,
   "metadata": {
    "collapsed": true
   },
   "outputs": [],
   "source": [
    "relevant = ['green','off','yellow','red']\n",
    "x2 = x[np.isin(y, relevant)]\n",
    "y2 = y[np.isin(y, relevant)]"
   ]
  },
  {
   "cell_type": "code",
   "execution_count": 12,
   "metadata": {},
   "outputs": [
    {
     "data": {
      "text/plain": [
       "(23164, 32, 32, 3)"
      ]
     },
     "execution_count": 12,
     "metadata": {},
     "output_type": "execute_result"
    }
   ],
   "source": [
    "x2.shape"
   ]
  },
  {
   "cell_type": "code",
   "execution_count": 13,
   "metadata": {
    "collapsed": true
   },
   "outputs": [],
   "source": [
    "y2_set = set(y2)\n",
    "y2_dict = {y: i for i,y in enumerate(y2_set)}\n",
    "y2_n = [y_dict[el] for el in y2]\n",
    "n_classes = len(y2_set)"
   ]
  },
  {
   "cell_type": "code",
   "execution_count": 14,
   "metadata": {},
   "outputs": [
    {
     "data": {
      "text/plain": [
       "{'green': 0, 'off': 1, 'red': 2, 'yellow': 3}"
      ]
     },
     "execution_count": 14,
     "metadata": {},
     "output_type": "execute_result"
    },
    {
     "data": {
      "image/png": "[encoded data removed]",
      "text/plain": [
       "<matplotlib.figure.Figure at 0x7fe29efe5208>"
      ]
     },
     "metadata": {},
     "output_type": "display_data"
    }
   ],
   "source": [
    "#distribution of examples per class\n",
    "plt.hist(y2_n, bins=n_classes);\n",
    "plt.xlabel('Class');\n",
    "plt.ylabel('Number of samples');\n",
    "y2_dict"
   ]
  },
  {
   "cell_type": "code",
   "execution_count": null,
   "metadata": {
    "collapsed": true
   },
   "outputs": [],
   "source": []
  },
  {
   "cell_type": "code",
   "execution_count": null,
   "metadata": {
    "collapsed": true
   },
   "outputs": [],
   "source": []
  },
  {
   "cell_type": "markdown",
   "metadata": {},
   "source": [
    "---\n",
    "\n",
    "## Visualize Data\n",
    "\n"
   ]
  },
  {
   "cell_type": "code",
   "execution_count": 15,
   "metadata": {
    "collapsed": true
   },
   "outputs": [],
   "source": [
    "def show_images(images, labels_true, rows, cols, cls=None, random=True, labels_predicted=None):\n",
    "    fig, axes = plt.subplots(rows, cols)\n",
    "    fig.subplots_adjust(hspace=0.37, wspace=0.3)\n",
    "    imidx = 0\n",
    "    for i, ax in enumerate(axes.flat):\n",
    "        while True:\n",
    "            if random:\n",
    "                example = np.random.randint(0, len(images))\n",
    "            else:\n",
    "                example = imidx\n",
    "                imidx += 1\n",
    "            if cls is None or labels_true[example]==cls:\n",
    "                break\n",
    "        if example >= len(images):\n",
    "            return\n",
    "        if len(images.shape)==4:\n",
    "            ax.imshow(images[example,:,:,:]);\n",
    "        else:\n",
    "            ax.imshow(images[example,:,:], cmap='Greys_r');\n",
    "        ax.set_xticks([])\n",
    "        ax.set_yticks([])\n",
    "        if labels_predicted is not None:\n",
    "            str = '{}: true {} pred {}'.format(example, labels_true[example], labels_predicted[example])\n",
    "        else:\n",
    "            str = '{}: true {}'.format(example, labels_true[example])\n",
    "        ax.set_xlabel(str)"
   ]
  },
  {
   "cell_type": "code",
   "execution_count": 16,
   "metadata": {},
   "outputs": [
    {
     "data": {
      "image/png": "[encoded data removed]",
      "text/plain": [
       "<matplotlib.figure.Figure at 0x7fe29edb6a58>"
      ]
     },
     "metadata": {},
     "output_type": "display_data"
    }
   ],
   "source": [
    "# randomly show grid 5x5 examples from training data set and their true class\n",
    "rows = 5\n",
    "cols = 5\n",
    "cls = None\n",
    "show_images(x2, y2, rows, cols, cls)"
   ]
  },
  {
   "cell_type": "code",
   "execution_count": null,
   "metadata": {
    "collapsed": true
   },
   "outputs": [],
   "source": []
  },
  {
   "cell_type": "code",
   "execution_count": null,
   "metadata": {
    "collapsed": true
   },
   "outputs": [],
   "source": []
  },
  {
   "cell_type": "markdown",
   "metadata": {},
   "source": [
    "----\n",
    "\n",
    "## Preprocess and split train/test\n"
   ]
  },
  {
   "cell_type": "code",
   "execution_count": 17,
   "metadata": {
    "collapsed": true
   },
   "outputs": [],
   "source": [
    "from sklearn.model_selection import train_test_split\n",
    "from sklearn.preprocessing import LabelBinarizer"
   ]
  },
  {
   "cell_type": "code",
   "execution_count": 18,
   "metadata": {
    "collapsed": true
   },
   "outputs": [],
   "source": [
    "x = x2\n",
    "y = y2"
   ]
  },
  {
   "cell_type": "code",
   "execution_count": 19,
   "metadata": {
    "collapsed": true
   },
   "outputs": [],
   "source": [
    "# apply One-Hot Encoding for class labels. at the moment they are integers 0..42\n",
    "encoder = LabelBinarizer()\n",
    "encoder.fit(y)\n",
    "y_onehot = encoder.transform(y)\n",
    "# Change to float32, so it can be multiplied against the features in \n",
    "# TensorFlow, which are float32\n",
    "y_onehot = y_onehot.astype(np.float32)"
   ]
  },
  {
   "cell_type": "code",
   "execution_count": 20,
   "metadata": {
    "collapsed": true
   },
   "outputs": [],
   "source": [
    "pct_train = 85.\n",
    "pct_valid = 15.\n",
    "random_state = 123\n",
    "\n",
    "train_features, val_features, train_labels, val_labels = train_test_split(\n",
    "                                                            x, y_onehot, \n",
    "                                                            train_size = pct_train/100., \n",
    "                                                            test_size = pct_valid/100.,\n",
    "                                                            random_state = random_state)"
   ]
  },
  {
   "cell_type": "code",
   "execution_count": 21,
   "metadata": {},
   "outputs": [
    {
     "data": {
      "text/plain": [
       "(19689, 32, 32, 3)"
      ]
     },
     "execution_count": 21,
     "metadata": {},
     "output_type": "execute_result"
    }
   ],
   "source": [
    "train_features.shape"
   ]
  },
  {
   "cell_type": "code",
   "execution_count": 22,
   "metadata": {},
   "outputs": [
    {
     "data": {
      "text/plain": [
       "dtype('uint8')"
      ]
     },
     "execution_count": 22,
     "metadata": {},
     "output_type": "execute_result"
    }
   ],
   "source": [
    "train_features.dtype"
   ]
  },
  {
   "cell_type": "code",
   "execution_count": 23,
   "metadata": {},
   "outputs": [
    {
     "data": {
      "text/plain": [
       "(19689, 4)"
      ]
     },
     "execution_count": 23,
     "metadata": {},
     "output_type": "execute_result"
    }
   ],
   "source": [
    "train_labels.shape"
   ]
  },
  {
   "cell_type": "code",
   "execution_count": null,
   "metadata": {
    "collapsed": true
   },
   "outputs": [],
   "source": []
  },
  {
   "cell_type": "code",
   "execution_count": null,
   "metadata": {
    "collapsed": true
   },
   "outputs": [],
   "source": []
  },
  {
   "cell_type": "code",
   "execution_count": null,
   "metadata": {
    "collapsed": true
   },
   "outputs": [],
   "source": []
  },
  {
   "cell_type": "code",
   "execution_count": null,
   "metadata": {
    "collapsed": true
   },
   "outputs": [],
   "source": []
  },
  {
   "cell_type": "code",
   "execution_count": null,
   "metadata": {
    "collapsed": true
   },
   "outputs": [],
   "source": []
  },
  {
   "cell_type": "markdown",
   "metadata": {},
   "source": [
    "----\n",
    "\n",
    "## Design and Test a Model Architecture\n"
   ]
  },
  {
   "cell_type": "markdown",
   "metadata": {},
   "source": [
    "Below is Tensorboard visualisation of the main part of my network (before softmax).\n",
    "\n",
    "Here is the description of it:\n",
    "\n",
    "1. input features. shape: (?, 32, 32, 3)\n",
    "2. convolution. kernel: [5,5] 3 input channels, 64 output channels. strides [1,1,1,1]. SAME padding.\n",
    "3. add bias\n",
    "4. relu\n",
    "5. max pool. strides [1,2,2,1]. kernel [1,2,2,1]. SAME padding\n",
    "6. convolution. kernel: [5,5] 64 input channels, 32 output channels. strides [1,1,1,1]. SAME padding.\n",
    "7. add bias\n",
    "8. relu\n",
    "9. max pool. strides [1,2,2,1]. kernel [1,2,2,1]. SAME padding\n",
    "10. reshape to flatten features. 2048 features\n",
    "11. dropout with keep_probability=0.5\n",
    "12. fully connected W*x+bias. output: number of classes\n",
    "13. softmax to get label probabilities\n",
    "\n",
    "."
   ]
  },
  {
   "cell_type": "code",
   "execution_count": 24,
   "metadata": {},
   "outputs": [],
   "source": [
    "#from IPython.display import Image\n",
    "#Image('CNN-graph.png')"
   ]
  },
  {
   "cell_type": "code",
   "execution_count": null,
   "metadata": {
    "collapsed": true
   },
   "outputs": [],
   "source": []
  },
  {
   "cell_type": "code",
   "execution_count": 25,
   "metadata": {
    "collapsed": true
   },
   "outputs": [],
   "source": [
    "from tl_classifier_cnn import TLClassifierCNN"
   ]
  },
  {
   "cell_type": "code",
   "execution_count": 26,
   "metadata": {
    "collapsed": true
   },
   "outputs": [],
   "source": [
    "# define shapes\n",
    "features_shape = ((None,) + train_features.shape[1:])\n",
    "labels_shape = (None,train_labels.shape[1],)"
   ]
  },
  {
   "cell_type": "code",
   "execution_count": 27,
   "metadata": {
    "scrolled": false
   },
   "outputs": [],
   "source": [
    "# create classifier\n",
    "tsc = TLClassifierCNN()\n",
    "\n",
    "# define model\n",
    "tsc.define_model(features_shape=features_shape, labels_shape=labels_shape)"
   ]
  },
  {
   "cell_type": "code",
   "execution_count": 28,
   "metadata": {
    "collapsed": true
   },
   "outputs": [],
   "source": [
    "# where we save trained variables\n",
    "model_param_file = 'ckpt/model.ckpt'\n",
    "\n",
    "# where we save graph and events/summaries for tensorflow\n",
    "summary_dir = 'train_summaries'\n",
    "\n",
    "tsc.set_save_files(model_param_file, summary_dir)"
   ]
  },
  {
   "cell_type": "code",
   "execution_count": 38,
   "metadata": {
    "collapsed": true
   },
   "outputs": [],
   "source": [
    "# learning parameters\n",
    "epochs = 50\n",
    "batch_size = 250\n",
    "learning_rate = 0.001\n",
    "max_iterations_without_improvement = 10\n",
    "dropout_keep_probability=0.7"
   ]
  },
  {
   "cell_type": "code",
   "execution_count": 39,
   "metadata": {},
   "outputs": [],
   "source": [
    "# create Tensorflow session\n",
    "tsc.create_session(learning_rate)"
   ]
  },
  {
   "cell_type": "code",
   "execution_count": 40,
   "metadata": {
    "scrolled": false
   },
   "outputs": [
    {
     "name": "stdout",
     "output_type": "stream",
     "text": [
      "INFO:tensorflow:Restoring parameters from ckpt/model.ckpt-1501\n"
     ]
    }
   ],
   "source": [
    "# i have trained model several times, restarting from where I left off, sometimes changing parameters\n",
    "tsc.restore_variables()"
   ]
  },
  {
   "cell_type": "code",
   "execution_count": 41,
   "metadata": {
    "scrolled": false
   },
   "outputs": [
    {
     "name": "stderr",
     "output_type": "stream",
     "text": [
      "Train Epoch 1502/50: 100%|██████████| 79/79 [00:49<00:00,  1.69batches/s]\n",
      "Train Accuracy Epoch 1502/50: 100%|██████████| 79/79 [00:01<00:00, 39.77batches/s]\n",
      "Val Accuracy Epoch 1502/50: 100%|██████████| 14/14 [00:00<00:00, 38.93batches/s]\n"
     ]
    },
    {
     "name": "stdout",
     "output_type": "stream",
     "text": [
      "epoch 1501, val accuracy: 0.9769784936801993\n",
      "validation accuracy improved\n",
      "checkpoint saved to ckpt/model.ckpt-1580\n"
     ]
    },
    {
     "name": "stderr",
     "output_type": "stream",
     "text": [
      "Train Epoch 1503/50: 100%|██████████| 79/79 [00:49<00:00,  1.73batches/s]\n",
      "Train Accuracy Epoch 1503/50: 100%|██████████| 79/79 [00:02<00:00, 39.04batches/s]\n",
      "Val Accuracy Epoch 1503/50: 100%|██████████| 14/14 [00:00<00:00, 38.65batches/s]\n",
      "Train Epoch 1504/50:   0%|          | 0/79 [00:00<?, ?batches/s]"
     ]
    },
    {
     "name": "stdout",
     "output_type": "stream",
     "text": [
      "epoch 1502, val accuracy: 0.9738130140647614\n"
     ]
    },
    {
     "name": "stderr",
     "output_type": "stream",
     "text": [
      "Train Epoch 1504/50: 100%|██████████| 79/79 [00:49<00:00,  1.67batches/s]\n",
      "Train Accuracy Epoch 1504/50: 100%|██████████| 79/79 [00:01<00:00, 40.28batches/s]\n",
      "Val Accuracy Epoch 1504/50: 100%|██████████| 14/14 [00:00<00:00, 39.34batches/s]\n"
     ]
    },
    {
     "name": "stdout",
     "output_type": "stream",
     "text": [
      "epoch 1503, val accuracy: 0.9749640861003519\n"
     ]
    },
    {
     "name": "stderr",
     "output_type": "stream",
     "text": [
      "Train Epoch 1505/50: 100%|██████████| 79/79 [00:49<00:00,  1.71batches/s]\n",
      "Train Accuracy Epoch 1505/50: 100%|██████████| 79/79 [00:01<00:00, 40.26batches/s]\n",
      "Val Accuracy Epoch 1505/50: 100%|██████████| 14/14 [00:00<00:00, 40.42batches/s]\n",
      "Train Epoch 1506/50:   0%|          | 0/79 [00:00<?, ?batches/s]"
     ]
    },
    {
     "name": "stdout",
     "output_type": "stream",
     "text": [
      "epoch 1504, val accuracy: 0.9775540365589609\n",
      "validation accuracy improved\n",
      "checkpoint saved to ckpt/model.ckpt-1817\n"
     ]
    },
    {
     "name": "stderr",
     "output_type": "stream",
     "text": [
      "Train Epoch 1506/50: 100%|██████████| 79/79 [00:49<00:00,  1.72batches/s]\n",
      "Train Accuracy Epoch 1506/50: 100%|██████████| 79/79 [00:02<00:00, 39.19batches/s]\n",
      "Val Accuracy Epoch 1506/50: 100%|██████████| 14/14 [00:00<00:00, 40.59batches/s]\n",
      "Train Epoch 1507/50:   0%|          | 0/79 [00:00<?, ?batches/s]"
     ]
    },
    {
     "name": "stdout",
     "output_type": "stream",
     "text": [
      "epoch 1505, val accuracy: 0.9761151744307374\n"
     ]
    },
    {
     "name": "stderr",
     "output_type": "stream",
     "text": [
      "Train Epoch 1507/50: 100%|██████████| 79/79 [00:49<00:00,  1.71batches/s]\n",
      "Train Accuracy Epoch 1507/50: 100%|██████████| 79/79 [00:01<00:00, 39.81batches/s]\n",
      "Val Accuracy Epoch 1507/50: 100%|██████████| 14/14 [00:00<00:00, 39.30batches/s]\n",
      "Train Epoch 1508/50:   0%|          | 0/79 [00:00<?, ?batches/s]"
     ]
    },
    {
     "name": "stdout",
     "output_type": "stream",
     "text": [
      "epoch 1506, val accuracy: 0.9775540245522698\n"
     ]
    },
    {
     "name": "stderr",
     "output_type": "stream",
     "text": [
      "Train Epoch 1508/50: 100%|██████████| 79/79 [00:49<00:00,  1.71batches/s]\n",
      "Train Accuracy Epoch 1508/50: 100%|██████████| 79/79 [00:02<00:00, 38.98batches/s]\n",
      "Val Accuracy Epoch 1508/50: 100%|██████████| 14/14 [00:00<00:00, 40.95batches/s]\n",
      "Train Epoch 1509/50:   0%|          | 0/79 [00:00<?, ?batches/s]"
     ]
    },
    {
     "name": "stdout",
     "output_type": "stream",
     "text": [
      "epoch 1507, val accuracy: 0.9772662430358448\n"
     ]
    },
    {
     "name": "stderr",
     "output_type": "stream",
     "text": [
      "Train Epoch 1509/50: 100%|██████████| 79/79 [00:49<00:00,  1.70batches/s]\n",
      "Train Accuracy Epoch 1509/50: 100%|██████████| 79/79 [00:01<00:00, 39.77batches/s]\n",
      "Val Accuracy Epoch 1509/50: 100%|██████████| 14/14 [00:00<00:00, 39.17batches/s]\n",
      "Train Epoch 1510/50:   0%|          | 0/79 [00:00<?, ?batches/s]"
     ]
    },
    {
     "name": "stdout",
     "output_type": "stream",
     "text": [
      "epoch 1508, val accuracy: 0.9752518564677067\n"
     ]
    },
    {
     "name": "stderr",
     "output_type": "stream",
     "text": [
      "Train Epoch 1510/50: 100%|██████████| 79/79 [00:49<00:00,  1.73batches/s]\n",
      "Train Accuracy Epoch 1510/50: 100%|██████████| 79/79 [00:01<00:00, 39.65batches/s]\n",
      "Val Accuracy Epoch 1510/50: 100%|██████████| 14/14 [00:00<00:00, 38.64batches/s]\n",
      "Train Epoch 1511/50:   0%|          | 0/79 [00:00<?, ?batches/s]"
     ]
    },
    {
     "name": "stdout",
     "output_type": "stream",
     "text": [
      "epoch 1509, val accuracy: 0.9761151915831532\n"
     ]
    },
    {
     "name": "stderr",
     "output_type": "stream",
     "text": [
      "Train Epoch 1511/50: 100%|██████████| 79/79 [00:49<00:00,  1.72batches/s]\n",
      "Train Accuracy Epoch 1511/50: 100%|██████████| 79/79 [00:01<00:00, 39.99batches/s]\n",
      "Val Accuracy Epoch 1511/50: 100%|██████████| 14/14 [00:00<00:00, 41.91batches/s]\n",
      "Train Epoch 1512/50:   0%|          | 0/79 [00:00<?, ?batches/s]"
     ]
    },
    {
     "name": "stdout",
     "output_type": "stream",
     "text": [
      "epoch 1510, val accuracy: 0.9772662468951383\n"
     ]
    },
    {
     "name": "stderr",
     "output_type": "stream",
     "text": [
      "Train Epoch 1512/50: 100%|██████████| 79/79 [00:49<00:00,  1.72batches/s]\n",
      "Train Accuracy Epoch 1512/50: 100%|██████████| 79/79 [00:02<00:00, 39.45batches/s]\n",
      "Val Accuracy Epoch 1512/50: 100%|██████████| 14/14 [00:00<00:00, 40.48batches/s]\n",
      "Train Epoch 1513/50:   0%|          | 0/79 [00:00<?, ?batches/s]"
     ]
    },
    {
     "name": "stdout",
     "output_type": "stream",
     "text": [
      "epoch 1511, val accuracy: 0.9764029636657495\n"
     ]
    },
    {
     "name": "stderr",
     "output_type": "stream",
     "text": [
      "Train Epoch 1513/50: 100%|██████████| 79/79 [00:49<00:00,  1.73batches/s]\n",
      "Train Accuracy Epoch 1513/50: 100%|██████████| 79/79 [00:02<00:00, 38.77batches/s]\n",
      "Val Accuracy Epoch 1513/50: 100%|██████████| 14/14 [00:00<00:00, 38.97batches/s]\n",
      "Train Epoch 1514/50:   0%|          | 0/79 [00:00<?, ?batches/s]"
     ]
    },
    {
     "name": "stdout",
     "output_type": "stream",
     "text": [
      "epoch 1512, val accuracy: 0.9766907233128445\n"
     ]
    },
    {
     "name": "stderr",
     "output_type": "stream",
     "text": [
      "Train Epoch 1514/50: 100%|██████████| 79/79 [00:49<00:00,  1.70batches/s]\n",
      "Train Accuracy Epoch 1514/50: 100%|██████████| 79/79 [00:01<00:00, 39.84batches/s]\n",
      "Val Accuracy Epoch 1514/50: 100%|██████████| 14/14 [00:00<00:00, 39.50batches/s]\n",
      "Train Epoch 1515/50:   0%|          | 0/79 [00:00<?, ?batches/s]"
     ]
    },
    {
     "name": "stdout",
     "output_type": "stream",
     "text": [
      "epoch 1513, val accuracy: 0.9764029473709546\n"
     ]
    },
    {
     "name": "stderr",
     "output_type": "stream",
     "text": [
      "Train Epoch 1515/50: 100%|██████████| 79/79 [00:50<00:00,  1.73batches/s]\n",
      "Train Accuracy Epoch 1515/50: 100%|██████████| 79/79 [00:01<00:00, 39.61batches/s]\n",
      "Val Accuracy Epoch 1515/50: 100%|██████████| 14/14 [00:00<00:00, 38.70batches/s]"
     ]
    },
    {
     "name": "stdout",
     "output_type": "stream",
     "text": [
      "epoch 1514, val accuracy: 0.9758274036345722\n",
      "no validation accuracy improvement over 10 epochs. stop\n",
      "runtime: 0:12:21.434049\n",
      "best val accuracy: 0.9775540365589609\n",
      "epochs: 1514\n"
     ]
    },
    {
     "name": "stderr",
     "output_type": "stream",
     "text": [
      "\n"
     ]
    }
   ],
   "source": [
    "# main training\n",
    "loss_epoch, train_acc_epoch, valid_acc_epoch, best_validation_accuracy = \\\n",
    "    tsc.train(train_images      = train_features, \n",
    "              train_labels      = train_labels, \n",
    "              validation_images = val_features, \n",
    "              validation_labels = val_labels, \n",
    "              dropout_keep_probability = dropout_keep_probability,\n",
    "              batch_size        = batch_size, \n",
    "              epochs            = epochs, \n",
    "              max_iterations_without_improvement = max_iterations_without_improvement)"
   ]
  },
  {
   "cell_type": "code",
   "execution_count": null,
   "metadata": {
    "collapsed": true
   },
   "outputs": [],
   "source": [
    "STOP"
   ]
  },
  {
   "cell_type": "code",
   "execution_count": null,
   "metadata": {},
   "outputs": [],
   "source": [
    "# accuracy statistics for last epoch (train set and validation set). and also best seen validation set accuracy \n",
    "train_acc_epoch[-1], best_validation_accuracy"
   ]
  },
  {
   "cell_type": "code",
   "execution_count": 37,
   "metadata": {},
   "outputs": [
    {
     "data": {
      "image/png": "[encoded data removed]",
      "text/plain": [
       "<matplotlib.figure.Figure at 0x7fe2506bea20>"
      ]
     },
     "metadata": {},
     "output_type": "display_data"
    }
   ],
   "source": [
    "loss_plot = plt.subplot(211)\n",
    "loss_plot.set_title('Loss')\n",
    "loss_plot.plot(loss_epoch, 'g')\n",
    "acc_plot = plt.subplot(212)\n",
    "acc_plot.set_title('Accuracy')\n",
    "acc_plot.plot(train_acc_epoch, 'r', label='Training Accuracy')\n",
    "acc_plot.plot(valid_acc_epoch, 'b', label='Validation Accuracy')\n",
    "acc_plot.set_ylim([0, 1.0])\n",
    "acc_plot.legend(loc=2)\n",
    "plt.tight_layout()\n",
    "plt.show()"
   ]
  },
  {
   "cell_type": "code",
   "execution_count": null,
   "metadata": {
    "collapsed": true
   },
   "outputs": [],
   "source": []
  },
  {
   "cell_type": "markdown",
   "metadata": {},
   "source": [
    "## investigating accuracy on out of sample data"
   ]
  },
  {
   "cell_type": "code",
   "execution_count": null,
   "metadata": {
    "collapsed": true
   },
   "outputs": [],
   "source": [
    "predicted_probabilities, predicted_classes, accuracy = \\\n",
    "  tsc.predict(images=val_features, \n",
    "              true_labels=val_labels, \n",
    "              batch_size=150)\n"
   ]
  },
  {
   "cell_type": "code",
   "execution_count": null,
   "metadata": {
    "collapsed": true
   },
   "outputs": [],
   "source": [
    "accuracy"
   ]
  },
  {
   "cell_type": "code",
   "execution_count": null,
   "metadata": {
    "collapsed": true
   },
   "outputs": [],
   "source": [
    "# great, accuracy 99.74% on validation set."
   ]
  },
  {
   "cell_type": "code",
   "execution_count": null,
   "metadata": {
    "collapsed": true
   },
   "outputs": [],
   "source": [
    "predicted_probabilities.shape"
   ]
  },
  {
   "cell_type": "code",
   "execution_count": null,
   "metadata": {
    "collapsed": true
   },
   "outputs": [],
   "source": [
    "predicted_probabilities[0]"
   ]
  },
  {
   "cell_type": "code",
   "execution_count": null,
   "metadata": {
    "collapsed": true
   },
   "outputs": [],
   "source": [
    "predicted_classes[0]"
   ]
  },
  {
   "cell_type": "code",
   "execution_count": null,
   "metadata": {
    "collapsed": true
   },
   "outputs": [],
   "source": [
    "certainty = predicted_probabilities.max(axis=1)"
   ]
  },
  {
   "cell_type": "code",
   "execution_count": null,
   "metadata": {
    "collapsed": true
   },
   "outputs": [],
   "source": [
    "plt.hist(certainty, bins=100);"
   ]
  },
  {
   "cell_type": "code",
   "execution_count": null,
   "metadata": {
    "collapsed": true
   },
   "outputs": [],
   "source": [
    "len(certainty[certainty<.98])"
   ]
  },
  {
   "cell_type": "code",
   "execution_count": null,
   "metadata": {
    "collapsed": true
   },
   "outputs": [],
   "source": [
    "plt.plot(certainty[certainty<.98]);"
   ]
  },
  {
   "cell_type": "code",
   "execution_count": null,
   "metadata": {
    "collapsed": true
   },
   "outputs": [],
   "source": []
  },
  {
   "cell_type": "code",
   "execution_count": null,
   "metadata": {
    "collapsed": true
   },
   "outputs": [],
   "source": [
    "# NOW test model predictions on test.p data which was not used in training or cross-validation"
   ]
  },
  {
   "cell_type": "code",
   "execution_count": null,
   "metadata": {
    "collapsed": true
   },
   "outputs": [],
   "source": [
    "predicted_probabilities, predicted_classes, accuracy = \\\n",
    "  tsc.predict(images = x_test_norm, \n",
    "              true_labels = y_test_norm, \n",
    "              batch_size = 150)\n"
   ]
  },
  {
   "cell_type": "code",
   "execution_count": null,
   "metadata": {
    "collapsed": true
   },
   "outputs": [],
   "source": [
    "accuracy"
   ]
  },
  {
   "cell_type": "code",
   "execution_count": null,
   "metadata": {
    "collapsed": true
   },
   "outputs": [],
   "source": [
    "# 95.64% accuracy. great! model generalises very well! lets analyse what is working and what is not."
   ]
  },
  {
   "cell_type": "code",
   "execution_count": null,
   "metadata": {
    "collapsed": true
   },
   "outputs": [],
   "source": []
  },
  {
   "cell_type": "code",
   "execution_count": null,
   "metadata": {
    "collapsed": true
   },
   "outputs": [],
   "source": []
  },
  {
   "cell_type": "code",
   "execution_count": null,
   "metadata": {
    "collapsed": true
   },
   "outputs": [],
   "source": []
  },
  {
   "cell_type": "code",
   "execution_count": null,
   "metadata": {
    "collapsed": true
   },
   "outputs": [],
   "source": [
    "from sklearn.metrics import confusion_matrix"
   ]
  },
  {
   "cell_type": "code",
   "execution_count": null,
   "metadata": {
    "collapsed": true
   },
   "outputs": [],
   "source": [
    "def print_test_accuracy(images, cls_pred, cls_true, \n",
    "                        show_example_errors=False,\n",
    "                        show_confusion_matrix=False):\n",
    "    num_test = len(images)\n",
    "    num_classes = len(set(cls_true))\n",
    "\n",
    "    correct = (cls_true == cls_pred)\n",
    "    correct_sum = correct.sum()\n",
    "    acc = float(correct_sum) / num_test\n",
    "\n",
    "    msg = \"Accuracy: {0:.1%} ({1} / {2})\"\n",
    "    print(msg.format(acc, correct_sum, num_test))\n",
    "\n",
    "    if show_example_errors:\n",
    "        print(\"Example errors:\")\n",
    "        incorrect = (correct == False)\n",
    "        im = images[incorrect]\n",
    "        cp = cls_pred[incorrect]\n",
    "        ct = cls_true[incorrect]\n",
    "        show_images(im, ct, 3, 4, labels_predicted=cp, random=False)\n",
    "                \n",
    "    if show_confusion_matrix:\n",
    "        print(\"Confusion Matrix (log):\")\n",
    "        # Get the confusion matrix using sklearn.\n",
    "        cm = confusion_matrix(y_true=cls_true,\n",
    "                              y_pred=cls_pred)\n",
    "        #print(cm)\n",
    "        plt.matshow(np.log(cm))\n",
    "        plt.colorbar()\n",
    "        tick_marks = np.arange(num_classes)\n",
    "        plt.xticks(tick_marks, range(num_classes))\n",
    "        plt.yticks(tick_marks, range(num_classes))\n",
    "        plt.xlabel('Predicted')\n",
    "        plt.ylabel('True')\n",
    "        plt.show()        "
   ]
  },
  {
   "cell_type": "code",
   "execution_count": null,
   "metadata": {
    "collapsed": true
   },
   "outputs": [],
   "source": [
    "# lets look at first 26x26 cells of confusion matrix\n",
    "cm = confusion_matrix(y_true=y_test,\n",
    "                      y_pred=predicted_classes)\n",
    "np.set_printoptions(threshold=np.nan, linewidth=200)\n",
    "print(cm[:25,:25])\n",
    "np.set_printoptions(threshold=30, linewidth=75)"
   ]
  },
  {
   "cell_type": "code",
   "execution_count": null,
   "metadata": {
    "collapsed": true
   },
   "outputs": [],
   "source": [
    "# visualize example error images and confusion matrix\n",
    "print_test_accuracy(images=X_test, \n",
    "                    cls_pred=predicted_classes, \n",
    "                    cls_true=y_test, \n",
    "                    show_example_errors=True, \n",
    "                    show_confusion_matrix=True)"
   ]
  },
  {
   "cell_type": "code",
   "execution_count": null,
   "metadata": {
    "collapsed": true
   },
   "outputs": [],
   "source": []
  },
  {
   "cell_type": "code",
   "execution_count": null,
   "metadata": {
    "collapsed": true
   },
   "outputs": [],
   "source": [
    "# read the sign names into a dict\n",
    "import csv\n",
    "reader = csv.DictReader(open('signnames.csv'))\n",
    "signnames = {}\n",
    "for row in reader:\n",
    "    signnames[int(row['ClassId'])] = row['SignName']    "
   ]
  },
  {
   "cell_type": "code",
   "execution_count": null,
   "metadata": {
    "collapsed": true
   },
   "outputs": [],
   "source": []
  },
  {
   "cell_type": "code",
   "execution_count": null,
   "metadata": {
    "collapsed": true
   },
   "outputs": [],
   "source": [
    "# visualize instances where model is misclassifying big number of images"
   ]
  },
  {
   "cell_type": "code",
   "execution_count": null,
   "metadata": {
    "collapsed": true
   },
   "outputs": [],
   "source": [
    "def print_one_confusion(images, true_labels, predicted_labels, show_true_class, show_false_class):\n",
    "    idx = np.logical_and(true_labels==show_true_class, predicted_labels==show_false_class)\n",
    "    cnt = sum(idx)\n",
    "    print('true class \"{}\", predicted class \"{}\". found: {}'.format(signnames[show_true_class], signnames[show_false_class], cnt))\n",
    "    cols = int(np.ceil(cnt/10))\n",
    "    show_images(images[idx], true_labels[idx], cols, 10, random=False, labels_predicted=predicted_labels[idx])"
   ]
  },
  {
   "cell_type": "code",
   "execution_count": null,
   "metadata": {
    "collapsed": true
   },
   "outputs": [],
   "source": [
    "print_one_confusion(images=X_test, true_labels=y_test, predicted_labels=predicted_classes, \n",
    "                    show_true_class=21, show_false_class=12)\n",
    "# what we see here is the same test set image (may be with small transformations) that was misclassified.\n",
    "# this seems like a genuine defficiency of the model -- the predicted sign is very different visually than the image"
   ]
  },
  {
   "cell_type": "code",
   "execution_count": null,
   "metadata": {
    "collapsed": true
   },
   "outputs": [],
   "source": []
  },
  {
   "cell_type": "code",
   "execution_count": null,
   "metadata": {
    "collapsed": true
   },
   "outputs": [],
   "source": [
    "print_one_confusion(images=X_test, true_labels=y_test, predicted_labels=predicted_classes, \n",
    "                    show_true_class=30, show_false_class=23)\n",
    "# with this one it looks like the same image, with slight transformations. the quality is quite poor, so its \n",
    "# understandable that model had hard time predicting it. the shape of the sign is actually right. and the picture\n",
    "# inside triangle is not very legible even for a human, so this is probably ok"
   ]
  },
  {
   "cell_type": "code",
   "execution_count": null,
   "metadata": {
    "collapsed": true
   },
   "outputs": [],
   "source": []
  },
  {
   "cell_type": "code",
   "execution_count": null,
   "metadata": {
    "collapsed": true
   },
   "outputs": [],
   "source": []
  },
  {
   "cell_type": "code",
   "execution_count": null,
   "metadata": {
    "collapsed": true
   },
   "outputs": [],
   "source": [
    "print_one_confusion(images=X_test, true_labels=y_test, predicted_labels=predicted_classes, \n",
    "                    show_true_class=7, show_false_class=5)\n",
    "# we see in confusion matrix that all the speed limit signs have high misclassification errors between them.\n",
    "# looks like the quality of the picture need to increase (better resolution is required)\n",
    "# for model to be more discerning between different speed limits."
   ]
  },
  {
   "cell_type": "code",
   "execution_count": null,
   "metadata": {
    "collapsed": true
   },
   "outputs": [],
   "source": []
  },
  {
   "cell_type": "code",
   "execution_count": null,
   "metadata": {
    "collapsed": true
   },
   "outputs": [],
   "source": []
  },
  {
   "cell_type": "code",
   "execution_count": null,
   "metadata": {
    "collapsed": true
   },
   "outputs": [],
   "source": [
    "print_one_confusion(images=X_test, true_labels=y_test, predicted_labels=predicted_classes, \n",
    "                    show_true_class=6, show_false_class=42)\n",
    "# looks like in this case the model is confused by the 'end' part -- the line across the sign. so it used the shape\n",
    "# and the cross line as main features. it also interpreted 80 as two vehicles passing each other (see below for\n",
    "# images of the 'end of passing' sign examples)"
   ]
  },
  {
   "cell_type": "code",
   "execution_count": null,
   "metadata": {
    "collapsed": true
   },
   "outputs": [],
   "source": [
    "rows = 3\n",
    "cols = 10\n",
    "cls = 42\n",
    "show_images(X_test, y_test, rows, cols, cls)"
   ]
  },
  {
   "cell_type": "code",
   "execution_count": null,
   "metadata": {
    "collapsed": true
   },
   "outputs": [],
   "source": []
  },
  {
   "cell_type": "code",
   "execution_count": null,
   "metadata": {
    "collapsed": true
   },
   "outputs": [],
   "source": []
  },
  {
   "cell_type": "code",
   "execution_count": null,
   "metadata": {
    "collapsed": true
   },
   "outputs": [],
   "source": []
  },
  {
   "cell_type": "code",
   "execution_count": null,
   "metadata": {
    "collapsed": true
   },
   "outputs": [],
   "source": []
  },
  {
   "cell_type": "code",
   "execution_count": null,
   "metadata": {
    "collapsed": true
   },
   "outputs": [],
   "source": []
  },
  {
   "cell_type": "code",
   "execution_count": null,
   "metadata": {
    "collapsed": true
   },
   "outputs": [],
   "source": [
    "x = normalize_data(im_array)\n",
    "y = encoder.transform(im_true_label)"
   ]
  },
  {
   "cell_type": "code",
   "execution_count": null,
   "metadata": {
    "collapsed": true
   },
   "outputs": [],
   "source": [
    "x.shape"
   ]
  },
  {
   "cell_type": "code",
   "execution_count": null,
   "metadata": {
    "collapsed": true
   },
   "outputs": [],
   "source": [
    "y.shape"
   ]
  },
  {
   "cell_type": "code",
   "execution_count": null,
   "metadata": {
    "collapsed": true
   },
   "outputs": [],
   "source": [
    "predicted_probabilities, predicted_classes, accuracy = \\\n",
    "  tsc.predict(images = x, \n",
    "              true_labels = y, \n",
    "              batch_size = 150)\n"
   ]
  },
  {
   "cell_type": "code",
   "execution_count": null,
   "metadata": {
    "collapsed": true
   },
   "outputs": [],
   "source": [
    "accuracy"
   ]
  },
  {
   "cell_type": "code",
   "execution_count": null,
   "metadata": {
    "collapsed": true
   },
   "outputs": [],
   "source": [
    "predicted_classes"
   ]
  },
  {
   "cell_type": "code",
   "execution_count": null,
   "metadata": {
    "collapsed": true
   },
   "outputs": [],
   "source": [
    "im_true_label"
   ]
  },
  {
   "cell_type": "code",
   "execution_count": null,
   "metadata": {
    "collapsed": true
   },
   "outputs": [],
   "source": [
    "rows = 3\n",
    "cols = 10\n",
    "cls = 11\n",
    "show_images(X_test, y_test, rows, cols, cls)"
   ]
  },
  {
   "cell_type": "code",
   "execution_count": null,
   "metadata": {
    "collapsed": true
   },
   "outputs": [],
   "source": []
  },
  {
   "cell_type": "code",
   "execution_count": null,
   "metadata": {
    "collapsed": true
   },
   "outputs": [],
   "source": []
  },
  {
   "cell_type": "code",
   "execution_count": null,
   "metadata": {
    "collapsed": true
   },
   "outputs": [],
   "source": []
  },
  {
   "cell_type": "code",
   "execution_count": null,
   "metadata": {
    "collapsed": true
   },
   "outputs": [],
   "source": []
  },
  {
   "cell_type": "code",
   "execution_count": null,
   "metadata": {
    "collapsed": true
   },
   "outputs": [],
   "source": [
    "tsc.close_session()"
   ]
  },
  {
   "cell_type": "code",
   "execution_count": null,
   "metadata": {
    "collapsed": true
   },
   "outputs": [],
   "source": []
  }
 ],
 "metadata": {
  "anaconda-cloud": {},
  "kernelspec": {
   "display_name": "Python 3",
   "language": "python",
   "name": "python3"
  },
  "language_info": {
   "codemirror_mode": {
    "name": "ipython",
    "version": 3
   },
   "file_extension": ".py",
   "mimetype": "text/x-python",
   "name": "python",
   "nbconvert_exporter": "python",
   "pygments_lexer": "ipython3",
   "version": "3.5.3"
  }
 },
 "nbformat": 4,
 "nbformat_minor": 1
}
